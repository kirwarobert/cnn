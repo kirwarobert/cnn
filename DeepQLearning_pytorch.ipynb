{
  "nbformat": 4,
  "nbformat_minor": 0,
  "metadata": {
    "colab": {
      "provenance": [],
      "authorship_tag": "ABX9TyOTe20BX23zUM1WyG20inyK",
      "include_colab_link": true
    },
    "kernelspec": {
      "name": "python3",
      "display_name": "Python 3"
    },
    "language_info": {
      "name": "python"
    }
  },
  "cells": [
    {
      "cell_type": "markdown",
      "metadata": {
        "id": "view-in-github",
        "colab_type": "text"
      },
      "source": [
        "<a href=\"https://colab.research.google.com/github/kirwarobert/cnn/blob/main/DeepQLearning_pytorch.ipynb\" target=\"_parent\"><img src=\"https://colab.research.google.com/assets/colab-badge.svg\" alt=\"Open In Colab\"/></a>"
      ]
    },
    {
      "cell_type": "code",
      "source": [],
      "metadata": {
        "id": "QG5rfDj2fy6q"
      },
      "execution_count": null,
      "outputs": []
    },
    {
      "cell_type": "code",
      "source": [
        "!pip install 'kaggle-environments>=0.1.6' > /dev/null 2>&1"
      ],
      "metadata": {
        "id": "V2QMQ8_yf1Ix"
      },
      "execution_count": 9,
      "outputs": []
    },
    {
      "cell_type": "code",
      "source": [
        "import numpy as np\n",
        "import gym\n",
        "import random\n",
        "import matplotlib.pyplot as plt\n",
        "from random import choice\n",
        "from tqdm.notebook import tqdm\n",
        "from kaggle_environments import evaluate, make\n",
        "import math"
      ],
      "metadata": {
        "colab": {
          "base_uri": "https://localhost:8080/"
        },
        "id": "-6l1YZHUgXUQ",
        "outputId": "4582d80a-a284-46d2-df98-47038872deb6"
      },
      "execution_count": 10,
      "outputs": [
        {
          "output_type": "stream",
          "name": "stderr",
          "text": [
            "/usr/local/lib/python3.11/dist-packages/gymnasium/envs/registration.py:596: UserWarning: \u001b[33mWARN: plugin: shimmy.registration:register_gymnasium_envs raised Traceback (most recent call last):\n",
            "  File \"/usr/local/lib/python3.11/dist-packages/gymnasium/envs/registration.py\", line 594, in load_plugin_envs\n",
            "    fn()\n",
            "  File \"/usr/local/lib/python3.11/dist-packages/shimmy/registration.py\", line 304, in register_gymnasium_envs\n",
            "    _register_atari_envs()\n",
            "  File \"/usr/local/lib/python3.11/dist-packages/shimmy/registration.py\", line 205, in _register_atari_envs\n",
            "    import ale_py\n",
            "  File \"/usr/local/lib/python3.11/dist-packages/ale_py/__init__.py\", line 68, in <module>\n",
            "    register_v0_v4_envs()\n",
            "  File \"/usr/local/lib/python3.11/dist-packages/ale_py/registration.py\", line 179, in register_v0_v4_envs\n",
            "    _register_rom_configs(legacy_games, obs_types, versions)\n",
            "  File \"/usr/local/lib/python3.11/dist-packages/ale_py/registration.py\", line 64, in _register_rom_configs\n",
            "    gymnasium.register(\n",
            "    ^^^^^^^^^^^^^^^^^^\n",
            "AttributeError: partially initialized module 'gymnasium' has no attribute 'register' (most likely due to a circular import)\n",
            "\u001b[0m\n",
            "  logger.warn(f\"plugin: {plugin.value} raised {traceback.format_exc()}\")\n"
          ]
        },
        {
          "output_type": "stream",
          "name": "stdout",
          "text": [
            "Loading environment lux_ai_s2 failed: cannot import name '_center' from 'numpy._core.umath' (/usr/local/lib/python3.11/dist-packages/numpy/_core/umath.py)\n",
            "Loading environment llm_20_questions failed: Failed to import transformers.models.t5.modeling_t5 because of the following error (look up to see its traceback):\n",
            "Failed to import transformers.generation.utils because of the following error (look up to see its traceback):\n",
            "cannot import name '_center' from 'numpy._core.umath' (/usr/local/lib/python3.11/dist-packages/numpy/_core/umath.py)\n"
          ]
        }
      ]
    },
    {
      "cell_type": "code",
      "source": [
        "class ConnectX(gym.Env):\n",
        "    def __init__(self, switch_prob=0.5):\n",
        "        self.env = make('connectx', debug=True)\n",
        "        self.pair = [None, 'random']\n",
        "        self.trainer = self.env.train(self.pair)\n",
        "        self.switch_prob = switch_prob\n",
        "\n",
        "        # Define required gym fields (examples):\n",
        "        config = self.env.configuration\n",
        "        self.action_space = gym.spaces.Discrete(config.columns)\n",
        "        self.observation_space = gym.spaces.Discrete(config.columns * config.rows)\n",
        "\n",
        "    def switch_trainer(self):\n",
        "        self.pair = self.pair[::-1]\n",
        "        self.trainer = self.env.train(self.pair)\n",
        "\n",
        "    def step(self, action):\n",
        "        return self.trainer.step(action)\n",
        "\n",
        "    def reset(self):\n",
        "        if random.uniform(0, 1) < self.switch_prob:\n",
        "            self.switch_trainer()\n",
        "        return self.trainer.reset()\n",
        "\n",
        "    def render(self, **kwargs):\n",
        "        return self.env.render(**kwargs)"
      ],
      "metadata": {
        "id": "V6Dz1ykOgcz4"
      },
      "execution_count": 11,
      "outputs": []
    },
    {
      "cell_type": "code",
      "source": [
        "env = ConnectX()"
      ],
      "metadata": {
        "id": "5G-_Q-jhggxP"
      },
      "execution_count": 12,
      "outputs": []
    },
    {
      "cell_type": "code",
      "source": [
        "import torch\n",
        "from torch import optim\n",
        "import torch.nn as nn\n",
        "# if gpu is to be used\n",
        "use_cuda = torch.cuda.is_available()\n",
        "\n",
        "device = torch.device(\"cuda:0\" if use_cuda else \"cpu\")"
      ],
      "metadata": {
        "id": "gRIkoWjvglCQ"
      },
      "execution_count": 13,
      "outputs": []
    },
    {
      "cell_type": "code",
      "source": [
        "seed_value = 23\n",
        "env.seed(seed_value)\n",
        "torch.manual_seed(seed_value)\n",
        "random.seed(seed_value)"
      ],
      "metadata": {
        "colab": {
          "base_uri": "https://localhost:8080/"
        },
        "id": "1W-2JMjcgo1f",
        "outputId": "bdc96e3d-024e-47e1-e6de-1701f6b6ecf8"
      },
      "execution_count": 14,
      "outputs": [
        {
          "output_type": "stream",
          "name": "stderr",
          "text": [
            "/usr/local/lib/python3.11/dist-packages/gym/core.py:256: DeprecationWarning: \u001b[33mWARN: Function `env.seed(seed)` is marked as deprecated and will be removed in the future. Please use `env.reset(seed=seed)` instead.\u001b[0m\n",
            "  deprecation(\n"
          ]
        }
      ]
    },
    {
      "cell_type": "code",
      "source": [
        "###### PARAMS ######\n",
        "learning_rate = 0.01\n",
        "num_episodes = 2000\n",
        "gamma = 0.85\n",
        "\n",
        "egreedy = 0.9\n",
        "egreedy_final = 0.02\n",
        "egreedy_decay = 500\n",
        "\n",
        "####################"
      ],
      "metadata": {
        "id": "PGaM1Z36gryP"
      },
      "execution_count": 15,
      "outputs": []
    },
    {
      "cell_type": "code",
      "source": [
        "env.observation_space.n , env.action_space.n"
      ],
      "metadata": {
        "colab": {
          "base_uri": "https://localhost:8080/"
        },
        "id": "M1vJBOmFgu8v",
        "outputId": "6e2802d7-aa2b-4137-f979-582ec710812b"
      },
      "execution_count": 16,
      "outputs": [
        {
          "output_type": "execute_result",
          "data": {
            "text/plain": [
              "(42, 7)"
            ]
          },
          "metadata": {},
          "execution_count": 16
        }
      ]
    },
    {
      "cell_type": "code",
      "source": [
        "number_of_inputs = env.observation_space.n + 1\n",
        "number_of_outputs = env.action_space.n\n",
        "hidden_layer = 64\n",
        "number_of_inputs , number_of_outputs , hidden_layer"
      ],
      "metadata": {
        "colab": {
          "base_uri": "https://localhost:8080/"
        },
        "id": "4bPcx-TagyW5",
        "outputId": "11c7878a-5ca7-41ca-cd52-a32a3ecfd05e"
      },
      "execution_count": 17,
      "outputs": [
        {
          "output_type": "execute_result",
          "data": {
            "text/plain": [
              "(43, 7, 64)"
            ]
          },
          "metadata": {},
          "execution_count": 17
        }
      ]
    },
    {
      "cell_type": "code",
      "source": [
        "def calculate_epsilon(steps_done):\n",
        "    epsilon = egreedy_final + (egreedy - egreedy_final) * \\\n",
        "              math.exp(-1. * steps_done / egreedy_decay )\n",
        "    return epsilon"
      ],
      "metadata": {
        "id": "WpEeuyqyg1of"
      },
      "execution_count": 18,
      "outputs": []
    },
    {
      "cell_type": "code",
      "source": [
        "class NeauralNetwork(nn.Module):\n",
        "    def __init__(self):\n",
        "        super(NeauralNetwork , self).__init__()\n",
        "        self.l1 = nn.Linear(number_of_inputs,hidden_layer)\n",
        "        self.l2 = nn.Linear(hidden_layer,number_of_outputs)\n",
        "        self.activation = nn.ReLU()\n",
        "\n",
        "    def forward(self , x):\n",
        "        output = self.activation(self.l1(x))\n",
        "        output = self.l2(output)\n",
        "        return output"
      ],
      "metadata": {
        "id": "WFOycqgzg5yf"
      },
      "execution_count": 19,
      "outputs": []
    },
    {
      "cell_type": "code",
      "source": [
        "class QAgent(object):\n",
        "    def __init__(self):\n",
        "        self.nn = NeauralNetwork()\n",
        "        self.loss_func = nn.MSELoss()\n",
        "        self.optimizer = optim.Adam(params=self.nn.parameters() , lr=learning_rate)\n",
        "\n",
        "    def select_action(self,state,epsilon):\n",
        "        random_for_egreedy = torch.rand(1)[0]\n",
        "\n",
        "        if random_for_egreedy > epsilon:\n",
        "\n",
        "            with torch.no_grad():\n",
        "\n",
        "                state = torch.Tensor(state).to(device)\n",
        "                action_from_nn = self.nn(state)\n",
        "                action = torch.max(action_from_nn,0)[1]\n",
        "                action = action.item()\n",
        "        else:\n",
        "            action = env.action_space.sample()\n",
        "\n",
        "        return action\n",
        "\n",
        "    def optimize(self, state, action, new_state, reward, done):\n",
        "        state = torch.Tensor(state).to(device)\n",
        "        new_state = torch.Tensor(new_state).to(device)\n",
        "        #print(reward)\n",
        "        #print(action)\n",
        "        reward = torch.Tensor([reward]).to(device)\n",
        "\n",
        "        if done:\n",
        "            target_value = reward\n",
        "        else:\n",
        "            new_state_values = self.nn(new_state).detach()\n",
        "            max_new_state_values = torch.max(new_state_values)\n",
        "            target_value = reward + gamma * max_new_state_values\n",
        "        #print(action)\n",
        "        #print(self.nn(state))\n",
        "        predicted_value = self.nn(state)[action]\n",
        "\n",
        "        loss = self.loss_func(predicted_value , target_value)\n",
        "        self.optimizer.zero_grad()\n",
        "        loss.backward()\n",
        "        self.optimizer.step()"
      ],
      "metadata": {
        "id": "scQ-iZ1xg-ZH"
      },
      "execution_count": 27,
      "outputs": []
    },
    {
      "cell_type": "code",
      "source": [
        "class ConnectX(gym.Env):\n",
        "    def __init__(self, switch_prob=0.5):\n",
        "        self.env = make('connectx', debug=True)\n",
        "        self.pair = [None, 'random']\n",
        "        self.trainer = self.env.train(self.pair)\n",
        "        self.switch_prob = switch_prob\n",
        "\n",
        "        # Define required gym fields (examples):\n",
        "        config = self.env.configuration\n",
        "        self.action_space = gym.spaces.Discrete(config.columns)\n",
        "        self.observation_space = gym.spaces.Discrete(config.columns * config.rows)\n",
        "\n",
        "    def switch_trainer(self):\n",
        "        self.pair = self.pair[::-1]\n",
        "        self.trainer = self.env.train(self.pair)\n",
        "\n",
        "    def step(self, action):\n",
        "        return self.trainer.step(action)\n",
        "\n",
        "    def reset(self):\n",
        "        if random.uniform(0, 1) < self.switch_prob:\n",
        "            self.switch_trainer()\n",
        "        obs = self.trainer.reset()\n",
        "        # Return the observation in the expected format with 'board' and 'mark' attributes\n",
        "        return Struct(board=obs.board, mark=obs.mark)\n",
        "\n",
        "    def render(self, **kwargs):\n",
        "        return self.env.render(**kwargs)"
      ],
      "metadata": {
        "id": "VvPfZzR-jGzS"
      },
      "execution_count": 29,
      "outputs": []
    },
    {
      "cell_type": "code",
      "source": [
        "print(\"Average reward: %.2f\" % (sum(steps_total)/num_episodes))\n",
        "print(\"Average reward (last 100 episodes): %.2f\" % (sum(steps_total[-100:])/100))\n",
        "\n",
        "plt.figure(figsize=(12,5))\n",
        "plt.title(\"Rewards\")\n",
        "plt.bar(torch.arange(len(steps_total)), steps_total, alpha=0.6, color='green', width=5)\n",
        "plt.show()"
      ],
      "metadata": {
        "colab": {
          "base_uri": "https://localhost:8080/",
          "height": 390
        },
        "id": "EXVjh8FyjRDJ",
        "outputId": "94ff53f8-360c-4726-b709-12077cb53664"
      },
      "execution_count": 30,
      "outputs": [
        {
          "output_type": "stream",
          "name": "stdout",
          "text": [
            "Average reward: 0.01\n",
            "Average reward (last 100 episodes): 0.23\n"
          ]
        },
        {
          "output_type": "display_data",
          "data": {
            "text/plain": [
              "<Figure size 1200x500 with 1 Axes>"
            ],
            "image/png": "[encoded data removed]"
          },
          "metadata": {}
        }
      ]
    }
  ]
}