{
  "nbformat": 4,
  "nbformat_minor": 0,
  "metadata": {
    "colab": {
      "provenance": [],
      "toc_visible": true,
      "gpuType": "V28",
      "authorship_tag": "ABX9TyMTo6Z0ebTrHpr4zcXIncz7",
      "include_colab_link": true
    },
    "kernelspec": {
      "name": "python3",
      "display_name": "Python 3"
    },
    "language_info": {
      "name": "python"
    },
    "accelerator": "TPU"
  },
  "cells": [
    {
      "cell_type": "markdown",
      "metadata": {
        "id": "view-in-github",
        "colab_type": "text"
      },
      "source": [
        "<a href=\"https://colab.research.google.com/github/kirwarobert/cnn/blob/main/mpesa_transaction_pattern_analysis_and_fraud_detection.ipynb\" target=\"_parent\"><img src=\"https://colab.research.google.com/assets/colab-badge.svg\" alt=\"Open In Colab\"/></a>"
      ]
    },
    {
      "cell_type": "markdown",
      "source": [
        "# Goal:\n",
        "Build a dashboard and ML-powered engine that:\n",
        "\n",
        "Visualizes transaction patterns of M-Pesa users\n",
        "\n",
        "Detects anomalies or potential fraud\n",
        "\n",
        "Allows querying and exploration of customer transaction behavior"
      ],
      "metadata": {
        "id": "ChGZDiQYZRZU"
      }
    },
    {
      "cell_type": "markdown",
      "source": [
        "# Core Features:\n",
        "Component\tDescription\n",
        "📊 Dashboard\tVisualize M-Pesa usage: daily volumes, top users, peak hours\n",
        "🔍 Transaction Explorer\tSearch transactions by phone number or customer ID\n",
        "⚠️ Fraud Detection\tML model flags suspicious transactions (e.g. abnormal amounts, frequency)\n",
        "⏱️ Real-Time Mode\tAllow simulated real-time analysis (optional add-on)"
      ],
      "metadata": {
        "id": "m94KMR67ZYOd"
      }
    },
    {
      "cell_type": "markdown",
      "source": [
        "# Technologies\n",
        "Python + Pandas for processing\n",
        "\n",
        "Scikit-learn for fraud detection\n",
        "\n",
        "Streamlit for interactive interface\n",
        "\n",
        "PyNgrok for Colab deployment\n",
        "\n"
      ],
      "metadata": {
        "id": "QDNXriskZgAk"
      }
    },
    {
      "cell_type": "markdown",
      "source": [
        "# 1. Install dependencies:\n",
        "python\n",
        "Copy\n",
        "Edit\n"
      ],
      "metadata": {
        "id": "oUlrbaP6Zl5p"
      }
    },
    {
      "cell_type": "code",
      "execution_count": 1,
      "metadata": {
        "colab": {
          "base_uri": "https://localhost:8080/"
        },
        "id": "PyQu7_qZP9FY",
        "outputId": "aab3b5e0-893e-47b5-ff46-ff46482926d9"
      },
      "outputs": [
        {
          "output_type": "stream",
          "name": "stdout",
          "text": [
            "\u001b[2K     \u001b[90m━━━━━━━━━━━━━━━━━━━━━━━━━━━━━━━━━━━━━━━━\u001b[0m \u001b[32m44.3/44.3 kB\u001b[0m \u001b[31m1.5 MB/s\u001b[0m eta \u001b[36m0:00:00\u001b[0m\n",
            "\u001b[2K   \u001b[90m━━━━━━━━━━━━━━━━━━━━━━━━━━━━━━━━━━━━━━━━\u001b[0m \u001b[32m9.8/9.8 MB\u001b[0m \u001b[31m73.2 MB/s\u001b[0m eta \u001b[36m0:00:00\u001b[0m\n",
            "\u001b[2K   \u001b[90m━━━━━━━━━━━━━━━━━━━━━━━━━━━━━━━━━━━━━━━━\u001b[0m \u001b[32m207.6/207.6 kB\u001b[0m \u001b[31m13.1 MB/s\u001b[0m eta \u001b[36m0:00:00\u001b[0m\n",
            "\u001b[2K   \u001b[90m━━━━━━━━━━━━━━━━━━━━━━━━━━━━━━━━━━━━━━━━\u001b[0m \u001b[32m6.9/6.9 MB\u001b[0m \u001b[31m109.4 MB/s\u001b[0m eta \u001b[36m0:00:00\u001b[0m\n",
            "\u001b[2K   \u001b[90m━━━━━━━━━━━━━━━━━━━━━━━━━━━━━━━━━━━━━━━━\u001b[0m \u001b[32m79.1/79.1 kB\u001b[0m \u001b[31m3.9 MB/s\u001b[0m eta \u001b[36m0:00:00\u001b[0m\n",
            "\u001b[2K   \u001b[90m━━━━━━━━━━━━━━━━━━━━━━━━━━━━━━━━━━━━━━━━\u001b[0m \u001b[32m62.8/62.8 kB\u001b[0m \u001b[31m3.3 MB/s\u001b[0m eta \u001b[36m0:00:00\u001b[0m\n",
            "\u001b[?25h"
          ]
        }
      ],
      "source": [
        "!pip install pandas scikit-learn streamlit pyngrok matplotlib seaborn --quiet\n"
      ]
    },
    {
      "cell_type": "markdown",
      "source": [
        "# 2. Load or simulate M-Pesa data"
      ],
      "metadata": {
        "id": "30nLpX95ZtML"
      }
    },
    {
      "cell_type": "code",
      "source": [
        "import pandas as pd\n",
        "import numpy as np\n",
        "\n",
        "# Simulate dataset (or upload your own)\n",
        "df = pd.DataFrame({\n",
        "    \"transaction_id\": [f\"TX{i:04d}\" for i in range(1000)],\n",
        "    \"customer_id\": np.random.choice([\"CU001\", \"CU002\", \"CU003\", \"CU004\"], 1000),\n",
        "    \"msisdn\": np.random.choice([\"254712345678\", \"254711223344\", \"254733221100\"], 1000),\n",
        "    \"timestamp\": pd.date_range(\"2024-04-01\", periods=1000, freq=\"H\"),\n",
        "    \"amount\": np.random.gamma(shape=2.0, scale=1000, size=1000),\n",
        "    \"type\": np.random.choice([\"send\", \"withdraw\", \"deposit\", \"airtime\"], 1000),\n",
        "    \"balance\": np.random.randint(100, 10000, 1000),\n",
        "    \"location\": np.random.choice([\"Nairobi\", \"Kisumu\", \"Mombasa\", \"Eldoret\"], 1000)\n",
        "})\n",
        "df.to_csv(\"mpesa_data.csv\", index=False)\n"
      ],
      "metadata": {
        "colab": {
          "base_uri": "https://localhost:8080/"
        },
        "id": "eCdFuPAqQIfQ",
        "outputId": "551e5a17-b742-441c-a514-19b172301040"
      },
      "execution_count": 2,
      "outputs": [
        {
          "output_type": "stream",
          "name": "stderr",
          "text": [
            "<ipython-input-2-c8173725c296>:9: FutureWarning: 'H' is deprecated and will be removed in a future version, please use 'h' instead.\n",
            "  \"timestamp\": pd.date_range(\"2024-04-01\", periods=1000, freq=\"H\"),\n"
          ]
        }
      ]
    },
    {
      "cell_type": "markdown",
      "source": [
        "# 3. Create Streamlit App"
      ],
      "metadata": {
        "id": "zgzsqbv0Z3kL"
      }
    },
    {
      "cell_type": "code",
      "source": [
        "%%writefile mpesa_dashboard.py\n",
        "import streamlit as st\n",
        "import pandas as pd\n",
        "import seaborn as sns\n",
        "import matplotlib.pyplot as plt\n",
        "\n",
        "df = pd.read_csv(\"mpesa_data.csv\", parse_dates=[\"timestamp\"])\n",
        "\n",
        "st.set_page_config(page_title=\"M-Pesa Dashboard\", layout=\"wide\")\n",
        "st.title(\"📱 M-Pesa Transaction Dashboard\")\n",
        "\n",
        "st.sidebar.header(\"Filter Transactions\")\n",
        "location = st.sidebar.selectbox(\"Location\", options=[\"All\"] + df[\"location\"].unique().tolist())\n",
        "if location != \"All\":\n",
        "    df = df[df[\"location\"] == location]\n",
        "\n",
        "st.subheader(\"📈 Transaction Overview\")\n",
        "col1, col2 = st.columns(2)\n",
        "\n",
        "with col1:\n",
        "    st.metric(\"Total Transactions\", len(df))\n",
        "    st.metric(\"Total Volume (KES)\", f\"{df['amount'].sum():,.0f}\")\n",
        "\n",
        "with col2:\n",
        "    st.bar_chart(df['type'].value_counts())\n",
        "\n",
        "# Time Series\n",
        "st.subheader(\"⏳ Transactions Over Time\")\n",
        "df[\"hour\"] = df[\"timestamp\"].dt.hour\n",
        "hourly = df.groupby(\"hour\")[\"amount\"].sum()\n",
        "\n",
        "fig, ax = plt.subplots()\n",
        "hourly.plot(kind=\"line\", ax=ax)\n",
        "ax.set_title(\"Total Amount by Hour\")\n",
        "st.pyplot(fig)\n",
        "\n",
        "# Fraud detection (simple outlier flag)\n",
        "st.subheader(\"⚠️ Suspicious Transactions\")\n",
        "threshold = df[\"amount\"].mean() + 3 * df[\"amount\"].std()\n",
        "suspicious = df[df[\"amount\"] > threshold]\n",
        "st.write(f\"Flagged {len(suspicious)} potential fraud transactions:\")\n",
        "st.dataframe(suspicious)\n"
      ],
      "metadata": {
        "colab": {
          "base_uri": "https://localhost:8080/"
        },
        "id": "aPtkk1MlQMmG",
        "outputId": "c5265354-37e2-4522-c27d-c6a0f041c4b7"
      },
      "execution_count": 3,
      "outputs": [
        {
          "output_type": "stream",
          "name": "stdout",
          "text": [
            "Writing mpesa_dashboard.py\n"
          ]
        }
      ]
    },
    {
      "cell_type": "markdown",
      "source": [
        "# 4. Run with Ngrok"
      ],
      "metadata": {
        "id": "wXWS697YZ-6i"
      }
    },
    {
      "cell_type": "code",
      "source": [
        "from pyngrok import ngrok\n",
        "!streamlit run mpesa_dashboard.py &\n",
        "\n",
        "# Open public URL\n",
        "public_url = ngrok.connect(8501)\n",
        "print(\"Access dashboard:\", public_url)\n"
      ],
      "metadata": {
        "colab": {
          "base_uri": "https://localhost:8080/"
        },
        "id": "vasF4ZpqQQ3G",
        "outputId": "8891d81c-c1cb-4a1d-e943-38173b4bbf36"
      },
      "execution_count": null,
      "outputs": [
        {
          "output_type": "stream",
          "name": "stdout",
          "text": [
            "\n",
            "Collecting usage statistics. To deactivate, set browser.gatherUsageStats to false.\n",
            "\u001b[0m\n",
            "\u001b[0m\n",
            "\u001b[34m\u001b[1m  You can now view your Streamlit app in your browser.\u001b[0m\n",
            "\u001b[0m\n",
            "\u001b[34m  Local URL: \u001b[0m\u001b[1mhttp://localhost:8501\u001b[0m\n",
            "\u001b[34m  Network URL: \u001b[0m\u001b[1mhttp://172.28.0.12:8501\u001b[0m\n",
            "\u001b[34m  External URL: \u001b[0m\u001b[1mhttp://35.232.63.12:8501\u001b[0m\n",
            "\u001b[0m\n"
          ]
        }
      ]
    }
  ]
}