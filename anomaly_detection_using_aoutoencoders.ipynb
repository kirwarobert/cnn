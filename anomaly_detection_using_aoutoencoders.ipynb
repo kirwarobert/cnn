{
  "nbformat": 4,
  "nbformat_minor": 0,
  "metadata": {
    "colab": {
      "provenance": [],
      "toc_visible": true,
      "authorship_tag": "ABX9TyNUGFr3jyDkMK8DF3bWuO/p",
      "include_colab_link": true
    },
    "kernelspec": {
      "name": "python3",
      "display_name": "Python 3"
    },
    "language_info": {
      "name": "python"
    }
  },
  "cells": [
    {
      "cell_type": "markdown",
      "metadata": {
        "id": "view-in-github",
        "colab_type": "text"
      },
      "source": [
        "<a href=\"https://colab.research.google.com/github/kirwarobert/cnn/blob/main/anomaly_detection_using_aoutoencoders.ipynb\" target=\"_parent\"><img src=\"https://colab.research.google.com/assets/colab-badge.svg\" alt=\"Open In Colab\"/></a>"
      ]
    },
    {
      "cell_type": "markdown",
      "source": [
        "# **Introduction**"
      ],
      "metadata": {
        "id": "lAdjSnGSd6Vp"
      }
    },
    {
      "cell_type": "markdown",
      "source": [
        "What is anomaly detection?\n",
        "\n",
        "Anomaly detection (aka outlier analysis) is a step in data mining that identifies data points, events, and/or observations that deviate from a dataset’s normal behavior. Anomalous data can indicate critical incidents, such as a technical glitch, or potential opportunities, for instance a change in consumer behavior. Machine learning is progressively being used to automate anomaly detection."
      ],
      "metadata": {
        "id": "ULyCQAjYeqeu"
      }
    },
    {
      "cell_type": "markdown",
      "source": [
        "# New Section"
      ],
      "metadata": {
        "id": "Hjj5u9SYe1iB"
      }
    },
    {
      "cell_type": "markdown",
      "source": [
        "# Utility Functions"
      ],
      "metadata": {
        "id": "3xFWWij-e2RG"
      }
    },
    {
      "cell_type": "code",
      "source": [
        "def get_clf_eval(y_test, pred=None, pred_proba=None):\n",
        "    confusion = confusion_matrix( y_test, pred)\n",
        "    accuracy = accuracy_score(y_test , pred)\n",
        "    precision = precision_score(y_test , pred)\n",
        "    recall = recall_score(y_test , pred)\n",
        "    f1 = f1_score(y_test,pred)\n",
        "\n",
        "    roc_auc = roc_auc_score(y_test, pred_proba)\n",
        "    print('confusion matrix')\n",
        "    print(confusion)\n",
        "\n",
        "    # ROC-AUC print\n",
        "    print('accuracy: {0:.4f}, precision: {1:.4f}, recall: {2:.4f},\\\n",
        "    F1: {3:.4f}, AUC:{4:.4f}'.format(accuracy, precision, recall, f1, roc_auc))\n",
        "    return confusion"
      ],
      "metadata": {
        "id": "uvxgcgDEfXli"
      },
      "execution_count": null,
      "outputs": []
    },
    {
      "cell_type": "markdown",
      "source": [
        "# Doing Simple EDA"
      ],
      "metadata": {
        "id": "z6rUSnQpf2J_"
      }
    },
    {
      "cell_type": "code",
      "source": [],
      "metadata": {
        "id": "mmr31pOzf8eX"
      },
      "execution_count": null,
      "outputs": []
    }
  ]
}