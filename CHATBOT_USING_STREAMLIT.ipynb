{
  "nbformat": 4,
  "nbformat_minor": 0,
  "metadata": {
    "colab": {
      "provenance": [],
      "authorship_tag": "ABX9TyM4nZ/CrHifwmc9EPuMhrkR",
      "include_colab_link": true
    },
    "kernelspec": {
      "name": "python3",
      "display_name": "Python 3"
    },
    "language_info": {
      "name": "python"
    }
  },
  "cells": [
    {
      "cell_type": "markdown",
      "metadata": {
        "id": "view-in-github",
        "colab_type": "text"
      },
      "source": [
        "<a href=\"https://colab.research.google.com/github/kirwarobert/cnn/blob/main/CHATBOT_USING_STREAMLIT.ipynb\" target=\"_parent\"><img src=\"https://colab.research.google.com/assets/colab-badge.svg\" alt=\"Open In Colab\"/></a>"
      ]
    },
    {
      "cell_type": "code",
      "execution_count": 28,
      "metadata": {
        "colab": {
          "base_uri": "https://localhost:8080/"
        },
        "collapsed": true,
        "id": "z2h7CGzVgBDs",
        "outputId": "1341d953-0c5b-4d58-de4c-bd280d924f72"
      },
      "outputs": [
        {
          "output_type": "stream",
          "name": "stdout",
          "text": [
            "Requirement already satisfied: streamlit in /usr/local/lib/python3.11/dist-packages (1.44.1)\n",
            "Requirement already satisfied: pyngrok in /usr/local/lib/python3.11/dist-packages (7.2.3)\n",
            "Requirement already satisfied: altair<6,>=4.0 in /usr/local/lib/python3.11/dist-packages (from streamlit) (5.5.0)\n",
            "Requirement already satisfied: blinker<2,>=1.0.0 in /usr/local/lib/python3.11/dist-packages (from streamlit) (1.9.0)\n",
            "Requirement already satisfied: cachetools<6,>=4.0 in /usr/local/lib/python3.11/dist-packages (from streamlit) (5.5.2)\n",
            "Requirement already satisfied: click<9,>=7.0 in /usr/local/lib/python3.11/dist-packages (from streamlit) (8.1.8)\n",
            "Requirement already satisfied: numpy<3,>=1.23 in /usr/local/lib/python3.11/dist-packages (from streamlit) (2.0.2)\n",
            "Requirement already satisfied: packaging<25,>=20 in /usr/local/lib/python3.11/dist-packages (from streamlit) (24.2)\n",
            "Requirement already satisfied: pandas<3,>=1.4.0 in /usr/local/lib/python3.11/dist-packages (from streamlit) (2.2.2)\n",
            "Requirement already satisfied: pillow<12,>=7.1.0 in /usr/local/lib/python3.11/dist-packages (from streamlit) (11.1.0)\n",
            "Requirement already satisfied: protobuf<6,>=3.20 in /usr/local/lib/python3.11/dist-packages (from streamlit) (5.29.4)\n",
            "Requirement already satisfied: pyarrow>=7.0 in /usr/local/lib/python3.11/dist-packages (from streamlit) (18.1.0)\n",
            "Requirement already satisfied: requests<3,>=2.27 in /usr/local/lib/python3.11/dist-packages (from streamlit) (2.32.3)\n",
            "Requirement already satisfied: tenacity<10,>=8.1.0 in /usr/local/lib/python3.11/dist-packages (from streamlit) (9.1.2)\n",
            "Requirement already satisfied: toml<2,>=0.10.1 in /usr/local/lib/python3.11/dist-packages (from streamlit) (0.10.2)\n",
            "Requirement already satisfied: typing-extensions<5,>=4.4.0 in /usr/local/lib/python3.11/dist-packages (from streamlit) (4.13.1)\n",
            "Requirement already satisfied: watchdog<7,>=2.1.5 in /usr/local/lib/python3.11/dist-packages (from streamlit) (6.0.0)\n",
            "Requirement already satisfied: gitpython!=3.1.19,<4,>=3.0.7 in /usr/local/lib/python3.11/dist-packages (from streamlit) (3.1.44)\n",
            "Requirement already satisfied: pydeck<1,>=0.8.0b4 in /usr/local/lib/python3.11/dist-packages (from streamlit) (0.9.1)\n",
            "Requirement already satisfied: tornado<7,>=6.0.3 in /usr/local/lib/python3.11/dist-packages (from streamlit) (6.4.2)\n",
            "Requirement already satisfied: PyYAML>=5.1 in /usr/local/lib/python3.11/dist-packages (from pyngrok) (6.0.2)\n",
            "Requirement already satisfied: jinja2 in /usr/local/lib/python3.11/dist-packages (from altair<6,>=4.0->streamlit) (3.1.6)\n",
            "Requirement already satisfied: jsonschema>=3.0 in /usr/local/lib/python3.11/dist-packages (from altair<6,>=4.0->streamlit) (4.23.0)\n",
            "Requirement already satisfied: narwhals>=1.14.2 in /usr/local/lib/python3.11/dist-packages (from altair<6,>=4.0->streamlit) (1.33.0)\n",
            "Requirement already satisfied: gitdb<5,>=4.0.1 in /usr/local/lib/python3.11/dist-packages (from gitpython!=3.1.19,<4,>=3.0.7->streamlit) (4.0.12)\n",
            "Requirement already satisfied: python-dateutil>=2.8.2 in /usr/local/lib/python3.11/dist-packages (from pandas<3,>=1.4.0->streamlit) (2.8.2)\n",
            "Requirement already satisfied: pytz>=2020.1 in /usr/local/lib/python3.11/dist-packages (from pandas<3,>=1.4.0->streamlit) (2025.2)\n",
            "Requirement already satisfied: tzdata>=2022.7 in /usr/local/lib/python3.11/dist-packages (from pandas<3,>=1.4.0->streamlit) (2025.2)\n",
            "Requirement already satisfied: charset-normalizer<4,>=2 in /usr/local/lib/python3.11/dist-packages (from requests<3,>=2.27->streamlit) (3.4.1)\n",
            "Requirement already satisfied: idna<4,>=2.5 in /usr/local/lib/python3.11/dist-packages (from requests<3,>=2.27->streamlit) (3.10)\n",
            "Requirement already satisfied: urllib3<3,>=1.21.1 in /usr/local/lib/python3.11/dist-packages (from requests<3,>=2.27->streamlit) (2.3.0)\n",
            "Requirement already satisfied: certifi>=2017.4.17 in /usr/local/lib/python3.11/dist-packages (from requests<3,>=2.27->streamlit) (2025.1.31)\n",
            "Requirement already satisfied: smmap<6,>=3.0.1 in /usr/local/lib/python3.11/dist-packages (from gitdb<5,>=4.0.1->gitpython!=3.1.19,<4,>=3.0.7->streamlit) (5.0.2)\n",
            "Requirement already satisfied: MarkupSafe>=2.0 in /usr/local/lib/python3.11/dist-packages (from jinja2->altair<6,>=4.0->streamlit) (3.0.2)\n",
            "Requirement already satisfied: attrs>=22.2.0 in /usr/local/lib/python3.11/dist-packages (from jsonschema>=3.0->altair<6,>=4.0->streamlit) (25.3.0)\n",
            "Requirement already satisfied: jsonschema-specifications>=2023.03.6 in /usr/local/lib/python3.11/dist-packages (from jsonschema>=3.0->altair<6,>=4.0->streamlit) (2024.10.1)\n",
            "Requirement already satisfied: referencing>=0.28.4 in /usr/local/lib/python3.11/dist-packages (from jsonschema>=3.0->altair<6,>=4.0->streamlit) (0.36.2)\n",
            "Requirement already satisfied: rpds-py>=0.7.1 in /usr/local/lib/python3.11/dist-packages (from jsonschema>=3.0->altair<6,>=4.0->streamlit) (0.24.0)\n",
            "Requirement already satisfied: six>=1.5 in /usr/local/lib/python3.11/dist-packages (from python-dateutil>=2.8.2->pandas<3,>=1.4.0->streamlit) (1.17.0)\n",
            "\u001b[1G\u001b[0K⠙\u001b[1G\u001b[0K⠹\u001b[1G\u001b[0K⠸\u001b[1G\u001b[0K⠼\u001b[1G\u001b[0K⠴\u001b[1G\u001b[0K\n",
            "up to date, audited 23 packages in 1s\n",
            "\u001b[1G\u001b[0K⠴\u001b[1G\u001b[0K\n",
            "\u001b[1G\u001b[0K⠴\u001b[1G\u001b[0K3 packages are looking for funding\n",
            "\u001b[1G\u001b[0K⠴\u001b[1G\u001b[0K  run `npm fund` for details\n",
            "\u001b[1G\u001b[0K⠴\u001b[1G\u001b[0K\n",
            "2 \u001b[31m\u001b[1mhigh\u001b[22m\u001b[39m severity vulnerabilities\n",
            "\n",
            "To address all issues (including breaking changes), run:\n",
            "  npm audit fix --force\n",
            "\n",
            "Run `npm audit` for details.\n",
            "\u001b[1G\u001b[0K⠴\u001b[1G\u001b[0K"
          ]
        }
      ],
      "source": [
        "!pip install streamlit pyngrok\n",
        "!npm install localtunnel"
      ]
    },
    {
      "cell_type": "code",
      "source": [
        "%%writefile customer_care_chatbot.py\n",
        "import streamlit as st\n",
        "import random\n",
        "import time\n",
        "from datetime import datetime\n",
        "\n",
        "# Set page config\n",
        "st.set_page_config(page_title=\"Customer Care Chatbot\", page_icon=\"🤖\")\n",
        "\n",
        "# Initialize session state for chat history\n",
        "if \"messages\" not in st.session_state:\n",
        "    st.session_state.messages = []\n",
        "\n",
        "# Initialize session state for user info\n",
        "if \"user_info\" not in st.session_state:\n",
        "    st.session_state.user_info = {\n",
        "        \"name\": None,\n",
        "        \"email\": None,\n",
        "        \"issue\": None\n",
        "    }\n",
        "\n",
        "# Common customer service responses\n",
        "RESPONSES = {\n",
        "    \"greeting\": [\n",
        "        \"Hello! Welcome to our customer support. How can I assist you today?\",\n",
        "        \"Hi there! How can I help you today?\",\n",
        "        \"Welcome! What can I do for you today?\"\n",
        "    ],\n",
        "    \"farewell\": [\n",
        "        \"Thank you for contacting us. Have a great day!\",\n",
        "        \"We're happy to help! Let us know if you need anything else.\",\n",
        "        \"Your satisfaction is our priority. Goodbye!\"\n",
        "    ],\n",
        "    \"positive\": [\n",
        "        \"Great to hear that! Is there anything else I can help with?\",\n",
        "        \"That's wonderful! Let me know if you need anything else.\",\n",
        "        \"I'm glad to hear that. How else can I assist you?\"\n",
        "    ],\n",
        "    \"negative\": [\n",
        "        \"I'm sorry to hear that. Let me help resolve this for you.\",\n",
        "        \"I apologize for the inconvenience. Let's get this sorted out.\",\n",
        "        \"That doesn't sound good. Let me see what I can do to help.\"\n",
        "    ],\n",
        "    \"escalate\": [\n",
        "        \"Let me connect you with a human representative for further assistance.\",\n",
        "        \"I'll transfer you to a specialist who can better handle your request.\",\n",
        "        \"For this issue, you'll need to speak with one of our support agents.\"\n",
        "    ],\n",
        "    \"confused\": [\n",
        "        \"I'm not sure I understand. Could you please rephrase that?\",\n",
        "        \"I want to make sure I help you correctly. Could you explain that differently?\",\n",
        "        \"Let me try to understand better. Could you say that another way?\"\n",
        "    ]\n",
        "}\n",
        "\n",
        "# Common issues and solutions\n",
        "ISSUE_DB = {\n",
        "    \"account\": {\n",
        "        \"questions\": [\"account\", \"login\", \"password\", \"sign in\"],\n",
        "        \"solutions\": [\n",
        "            \"For account issues, please try resetting your password using the 'Forgot Password' link.\",\n",
        "            \"Make sure you're using the correct email associated with your account.\",\n",
        "            \"Account verification may be required. Check your email for a verification link.\"\n",
        "        ]\n",
        "    },\n",
        "    \"payment\": {\n",
        "        \"questions\": [\"payment\", \"charge\", \"refund\", \"bill\", \"invoice\"],\n",
        "        \"solutions\": [\n",
        "            \"Payment processing usually takes 3-5 business days to reflect in your account.\",\n",
        "            \"For refunds, please contact our billing department with your transaction ID.\",\n",
        "            \"Double-check your payment method details and try the transaction again.\"\n",
        "        ]\n",
        "    },\n",
        "    \"delivery\": {\n",
        "        \"questions\": [\"delivery\", \"ship\", \"track\", \"arrive\", \"shipping\"],\n",
        "        \"solutions\": [\n",
        "            \"Standard delivery takes 5-7 business days. Express shipping is 2-3 days.\",\n",
        "            \"You can track your order using the tracking number provided in your confirmation email.\",\n",
        "            \"Delivery times may vary based on your location and current order volume.\"\n",
        "        ]\n",
        "    },\n",
        "    \"technical\": {\n",
        "        \"questions\": [\"error\", \"bug\", \"technical\", \"not working\", \"crash\"],\n",
        "        \"solutions\": [\n",
        "            \"Try clearing your browser cache and cookies, then restart the application.\",\n",
        "            \"Make sure you're using the latest version of our app or software.\",\n",
        "            \"This might be a temporary issue. Please try again after some time.\"\n",
        "        ]\n",
        "    }\n",
        "}\n",
        "\n",
        "def get_response(user_input):\n",
        "    \"\"\"Generate an appropriate response based on user input\"\"\"\n",
        "    user_input = user_input.lower()\n",
        "\n",
        "    # Check for greetings\n",
        "    if any(word in user_input for word in [\"hi\", \"hello\", \"hey\"]):\n",
        "        return random.choice(RESPONSES[\"greeting\"])\n",
        "\n",
        "    # Check for farewells\n",
        "    if any(word in user_input for word in [\"bye\", \"goodbye\", \"thanks\"]):\n",
        "        return random.choice(RESPONSES[\"farewell\"])\n",
        "\n",
        "    # Check for positive feedback\n",
        "    if any(word in user_input for word in [\"great\", \"good\", \"awesome\", \"thank\"]):\n",
        "        return random.choice(RESPONSES[\"positive\"])\n",
        "\n",
        "    # Check for negative feedback\n",
        "    if any(word in user_input for word in [\"bad\", \"terrible\", \"awful\", \"angry\", \"upset\"]):\n",
        "        return random.choice(RESPONSES[\"negative\"])\n",
        "\n",
        "    # Check for specific issues\n",
        "    for issue, data in ISSUE_DB.items():\n",
        "        if any(word in user_input for word in data[\"questions\"]):\n",
        "            solution = random.choice(data[\"solutions\"])\n",
        "            return f\"Regarding your {issue} issue: {solution}\"\n",
        "\n",
        "    # If no specific match, check if user is providing information\n",
        "    if \"name is\" in user_input or \"i'm \" in user_input:\n",
        "        return \"Thank you for providing that information. How can I assist you?\"\n",
        "\n",
        "    # Default response if nothing matches\n",
        "    return random.choice(RESPONSES[\"confused\"])\n",
        "\n",
        "def collect_user_info():\n",
        "    # Initialize session state with proper type\n",
        "    if \"user_info\" not in st.session_state:\n",
        "        st.session_state.user_info = \"\"  # Initialize as empty string\n",
        "\n",
        "    # Ensure existing value is string type\n",
        "    if not isinstance(st.session_state.get(\"user_info\"), str):\n",
        "        st.session_state.user_info = str(st.session_state.user_info)\n",
        "\n",
        "    with st.form(\"user_info_form\"):\n",
        "        # Create text input with type-safe value\n",
        "        name = st.text_input(\n",
        "            \"Your Name\",\n",
        "            value=str(st.session_state.user_info),  # Explicit string conversion\n",
        "            key=\"user_info\"\n",
        "        )\n",
        "\n",
        "        submitted = st.form_submit_button(\"Submit\")\n",
        "\n",
        "        if submitted:\n",
        "            if name.strip():  # Check for non-empty string\n",
        "                return True\n",
        "            st.error(\"Please enter your name\")\n",
        "            return False\n",
        "\n",
        "    return False\n",
        "\n",
        "def main():\n",
        "    \"\"\"Main function to run the chatbot\"\"\"\n",
        "    st.title(\"🤖 Customer Care Chatbot\")\n",
        "    st.write(\"Welcome to our 24/7 customer support service.\")\n",
        "\n",
        "    # Check if user info is collected\n",
        "    if not all(st.session_state.user_info.values()):\n",
        "        if collect_user_info():\n",
        "            st.experimental_rerun()\n",
        "        return\n",
        "\n",
        "    # Display user info\n",
        "    st.sidebar.subheader(\"Your Information\")\n",
        "    st.sidebar.write(f\"Name: {st.session_state.user_info['name']}\")\n",
        "    st.sidebar.write(f\"Email: {st.session_state.user_info['email']}\")\n",
        "    st.sidebar.write(f\"Issue: {st.session_state.user_info['issue']}\")\n",
        "\n",
        "    # Display chat messages\n",
        "    for message in st.session_state.messages:\n",
        "        with st.chat_message(message[\"role\"]):\n",
        "            st.markdown(message[\"content\"])\n",
        "\n",
        "    # Accept user input\n",
        "    if prompt := st.chat_input(\"How can I help you?\"):\n",
        "        # Add user message to chat history\n",
        "        st.session_state.messages.append({\"role\": \"user\", \"content\": prompt})\n",
        "\n",
        "        # Display user message in chat message container\n",
        "        with st.chat_message(\"user\"):\n",
        "            st.markdown(prompt)\n",
        "\n",
        "        # Generate and display bot response\n",
        "        with st.chat_message(\"assistant\"):\n",
        "            response = get_response(prompt)\n",
        "            st.markdown(response)\n",
        "\n",
        "        # Add bot response to chat history\n",
        "        st.session_state.messages.append({\"role\": \"assistant\", \"content\": response})\n",
        "\n",
        "if __name__ == \"__main__\":\n",
        "    main()"
      ],
      "metadata": {
        "colab": {
          "base_uri": "https://localhost:8080/"
        },
        "id": "_BpqooSCqKrp",
        "outputId": "8599edc4-de82-4477-d0fc-1f5b370e7dd1"
      },
      "execution_count": 29,
      "outputs": [
        {
          "output_type": "stream",
          "name": "stdout",
          "text": [
            "Overwriting customer_care_chatbot.py\n"
          ]
        }
      ]
    },
    {
      "cell_type": "code",
      "source": [
        "# Run the Streamlit app\n",
        "!streamlit run customer_care_chatbot.py &>/dev/null&"
      ],
      "metadata": {
        "id": "v0_NGTEkqOoY"
      },
      "execution_count": 30,
      "outputs": []
    },
    {
      "cell_type": "code",
      "source": [
        "!ngrok config add-authtoken 2vRplRczLuVgGShyebTSazSWA8O_4uZBG4UmeKkaEno7PANz4"
      ],
      "metadata": {
        "colab": {
          "base_uri": "https://localhost:8080/"
        },
        "id": "PUt7DuUIMlU9",
        "outputId": "8b6e4f66-333b-40e3-89f1-bff68fdde42a"
      },
      "execution_count": 35,
      "outputs": [
        {
          "output_type": "stream",
          "name": "stdout",
          "text": [
            "Authtoken saved to configuration file: /root/.config/ngrok/ngrok.yml\n"
          ]
        }
      ]
    },
    {
      "cell_type": "code",
      "source": [
        "from pyngrok import ngrok\n",
        "\n",
        "# Set your authtoken\n",
        "\n",
        "# Now you can connect as before\n",
        "public_url = ngrok.connect(addr='localhost:8501')\n",
        "public_url"
      ],
      "metadata": {
        "colab": {
          "base_uri": "https://localhost:8080/"
        },
        "id": "fQZu31XILscX",
        "outputId": "b0ec79f6-f554-470a-cc72-cdd5b4130486"
      },
      "execution_count": 36,
      "outputs": [
        {
          "output_type": "execute_result",
          "data": {
            "text/plain": [
              "<NgrokTunnel: \"https://887e-34-121-230-56.ngrok-free.app\" -> \"http://localhost:8501\">"
            ]
          },
          "metadata": {},
          "execution_count": 36
        }
      ]
    }
  ]
}